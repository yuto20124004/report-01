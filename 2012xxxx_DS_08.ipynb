{
  "cells": [
    {
      "cell_type": "markdown",
      "metadata": {
        "id": "view-in-github",
        "colab_type": "text"
      },
      "source": [
        "<a href=\"https://colab.research.google.com/github/yuto20124004/report-01/blob/main/2012xxxx_DS_08.ipynb\" target=\"_parent\"><img src=\"https://colab.research.google.com/assets/colab-badge.svg\" alt=\"Open In Colab\"/></a>"
      ]
    },
    {
      "cell_type": "markdown",
      "metadata": {
        "id": "OaLkNdS2gn6p"
      },
      "source": [
        "# データベース演習 第8回\n",
        "\n",
        "### 🔍 利用方法\n",
        "\n",
        "- このノートブックは**閲覧専用**です。  \n",
        "  自分のGoogleドライブにコピーを作成してから編集してください。\n",
        "\n",
        "  1. メニューの「**ファイル → ドライブにコピーを保存**」を選ぶ  \n",
        "  2. コピーしたノートブックの**ファイル名（左上の\"xxxx\"）を学籍番号に変更**してください（提出時の識別のため）\n",
        "\n",
        "---\n",
        "\n",
        "### 🔧 提出手順\n",
        "\n",
        "1. Google Colab の右上にある「**共有**」ボタンをクリック  \n",
        "2. 「**一般的なアクセス**」の設定を「**リンクを知っている全員**」に変更  \n",
        "3. アクセス権を「**閲覧者**」に設定（⚠️「編集者」にしないこと！）  \n",
        "4. 表示されるURLをコピー  \n",
        "5. WebClassの提出フォームに、その**URLを貼り付けて提出**\n",
        "\n",
        "---\n",
        "\n",
        "### 💡 補足・注意点\n",
        "\n",
        "- **「編集者」ではなく「閲覧者」**に設定してください。  \n",
        "  → 教員が間違ってファイルを上書きしてしまうのを防ぐためです。\n",
        "- **提出したリンクを自分でも一度開いてみて、ちゃんと共有されているかを確認**してください。"
      ]
    },
    {
      "cell_type": "markdown",
      "metadata": {
        "id": "w5OBzS0ugn6q"
      },
      "source": [
        "### 使用するデータベースのダウンロード\n",
        "\n",
        "* 次のセルで私のgithubリポジトリにあるSQLite3のデータベースをダウンロードしています\n",
        "  * syllabusデータベース\n",
        "  * weblogデータベース（テーブル3個のみ）\n",
        "* ダウンロードは，（私の大学の環境では）10秒以内に完了します\n",
        "* Colabのランタイムが切り替わると，その度にダウンロードする必要があります"
      ]
    },
    {
      "cell_type": "code",
      "execution_count": null,
      "metadata": {
        "id": "q7MX6AyDgn6q"
      },
      "outputs": [],
      "source": [
        "# SQLiteファイルをColab上に取得\n",
        "\n",
        "# syllabusデータベース\n",
        "!wget https://raw.githubusercontent.com/ggszk/ggszk-lab-public/refs/heads/main/db/syllabus.sqlite3\n",
        "\n",
        "# weblogデータベース（）\n",
        "!wget https://raw.githubusercontent.com/ggszk/ggszk-lab-public/refs/heads/main/db/weblog.sqlite3"
      ]
    },
    {
      "cell_type": "code",
      "execution_count": null,
      "metadata": {
        "id": "10VRGhPlgn6r"
      },
      "outputs": [],
      "source": [
        "# jupysqlのインストール\n",
        "!pip3 install jupysql --quiet"
      ]
    },
    {
      "cell_type": "code",
      "execution_count": null,
      "metadata": {
        "id": "9PqpIhUFgn6r"
      },
      "outputs": [],
      "source": [
        "# jupysqlの拡張機能を有効化`\n",
        "%load_ext sql"
      ]
    },
    {
      "cell_type": "code",
      "execution_count": null,
      "metadata": {
        "id": "USAHCOuign6r"
      },
      "outputs": [],
      "source": [
        "# シラバスデータベースに接続する\n",
        "%sql sqlite:///syllabus.sqlite3"
      ]
    },
    {
      "cell_type": "markdown",
      "metadata": {
        "id": "vvpnYss3gn6r"
      },
      "source": [
        "### syllabusデータベースに含まれるテーブルの確認\n",
        "* sqlite_masterは，SQLiteのシステムカタログ（メタデータ）にあたるテーブル．作成されたテーブルの一覧が出力される．\n",
        "* テーブルが存在するかどうかを確認するときに使うとよい"
      ]
    },
    {
      "cell_type": "code",
      "execution_count": null,
      "metadata": {
        "id": "ibpQ_eFm4eBj"
      },
      "outputs": [],
      "source": [
        "%%sql\n",
        "SELECT * FROM sqlite_master;"
      ]
    },
    {
      "cell_type": "markdown",
      "metadata": {
        "id": "S-rmcgc8gn6r"
      },
      "source": [
        "### syllabusデータベースに含まれるテーブルへのSQL実行例"
      ]
    },
    {
      "cell_type": "code",
      "execution_count": null,
      "metadata": {
        "id": "o_9MoSl7oypR"
      },
      "outputs": [],
      "source": [
        "%%sql\n",
        "SELECT * FROM 授業科目;"
      ]
    },
    {
      "cell_type": "markdown",
      "metadata": {
        "id": "OPSUqAMwgn6s"
      },
      "source": [
        "### weblogデータベースへの接続\n",
        "* どちらのデータベースに接続しているかは意識すること"
      ]
    },
    {
      "cell_type": "code",
      "execution_count": null,
      "metadata": {
        "id": "-WSoN32r3t60"
      },
      "outputs": [],
      "source": [
        "%sql sqlite:///weblog.sqlite3"
      ]
    },
    {
      "cell_type": "markdown",
      "metadata": {
        "id": "gsepJHxbgn6s"
      },
      "source": [
        "### weblogデータベースに含まれるテーブルの確認"
      ]
    },
    {
      "cell_type": "code",
      "execution_count": null,
      "metadata": {
        "id": "_r25jFtV35RB"
      },
      "outputs": [],
      "source": [
        "%%sql\n",
        "SELECT * FROM sqlite_master;"
      ]
    },
    {
      "cell_type": "markdown",
      "metadata": {
        "id": "-TdMjXk6gn6s"
      },
      "source": [
        "### weblogデータベースへのSQL実行"
      ]
    },
    {
      "cell_type": "code",
      "execution_count": null,
      "metadata": {
        "id": "C3X4LARJ4GAw"
      },
      "outputs": [],
      "source": [
        "%%sql\n",
        "SELECT * FROM shops;"
      ]
    },
    {
      "cell_type": "markdown",
      "metadata": {
        "id": "PBV4VQ40gn6s"
      },
      "source": [
        "### 練習：コマンドラインアプリケーションの作成\n",
        "* %%writefileを使ってプログラムをファイルに保存してみよう\n",
        "* %%writefile　は，その行より下に書かれた内容をファイルに書き込むコマンドである．\n",
        "* このセルを実行すると，hello.pyというプログラムが作成される"
      ]
    },
    {
      "cell_type": "code",
      "execution_count": null,
      "metadata": {
        "id": "d0tJ_Hw4NDGR"
      },
      "outputs": [],
      "source": [
        "%%writefile hello.py\n",
        "print(\"hello\")\n"
      ]
    },
    {
      "cell_type": "code",
      "execution_count": null,
      "metadata": {
        "id": "1fWg_M_-NFfc"
      },
      "outputs": [],
      "source": [
        "# 練習：コマンドラインアプリケーションの実行\n",
        "# 前のセルで作成した，hello.pyを実行してみよう\n",
        "!python3 hello.py\n"
      ]
    },
    {
      "cell_type": "markdown",
      "metadata": {
        "id": "v3y7axJugn6s"
      },
      "source": [
        "## サンプルプログラム1：データの検索\n",
        "* このセルは修正せずにそのままにすること\n",
        "* 下の修正用で直して，おかしくなったときに，こちらのプログラムをコピペしてやり直すこと\n",
        "\n",
        "```\n",
        "import sqlite3\n",
        "\n",
        "connection = sqlite3.connect('syllabus.sqlite3')\n",
        "cursor = connection.cursor()\n",
        "cursor.execute('SELECT * FROM 授業科目;') #(2)\n",
        "\n",
        "for row in cursor :\n",
        "    print(row) #(3)\n",
        "\n",
        "cursor.close()\n",
        "connection.close()\n",
        "```"
      ]
    },
    {
      "cell_type": "markdown",
      "metadata": {
        "id": "EaGNRuaGgn6s"
      },
      "source": [
        "### サンプルプログラム1：データの検索　→ 修正用\n",
        "* 下は，上のサンプルプログラム1と同じ内容である\n",
        "* 以下のスライドの動作確認に使用せよ\n",
        "  * 検索結果について\n",
        "  * タプルの要素の取得\n",
        "  * カーソルの使い方をもう少し\n",
        "  * 検索結果を保持したいときは？"
      ]
    },
    {
      "cell_type": "code",
      "execution_count": null,
      "metadata": {
        "id": "3JCXmzQPz4Uj"
      },
      "outputs": [],
      "source": [
        "import sqlite3\n",
        "\n",
        "connection = sqlite3.connect('syllabus.sqlite3')\n",
        "cursor = connection.cursor()\n",
        "cursor.execute('SELECT * FROM 授業科目;') #(2)\n",
        "\n",
        "for row in cursor :\n",
        "    print(row) #(3)\n",
        "\n",
        "cursor.close()\n",
        "connection.close()"
      ]
    },
    {
      "cell_type": "markdown",
      "metadata": {
        "id": "nIw7XIuvgn6s"
      },
      "source": [
        "## 例題1：データの検索\n",
        "* 配布資料の例題1をやってみよう\n",
        "\n",
        "### 手順1. 次のセルにプログラムを記述し，正しい出力が出せるまで修正しながら確認しよう"
      ]
    },
    {
      "cell_type": "code",
      "execution_count": null,
      "metadata": {
        "id": "wla2zZ6I-Zov"
      },
      "outputs": [],
      "source": [
        "\n"
      ]
    },
    {
      "cell_type": "markdown",
      "metadata": {
        "id": "sL6J-etmgn6t"
      },
      "source": [
        "### 手順2. 次のセルの%%witefileの下に上のセルで書いたプログラムをコピペして，セルを実行し，example01.pyという名前のファイルに保存する\n"
      ]
    },
    {
      "cell_type": "code",
      "execution_count": null,
      "metadata": {
        "id": "KRMIqdxzLma2"
      },
      "outputs": [],
      "source": [
        "%%writefile example01.py\n",
        "# 例題1プログラム\n",
        "# 以下は自分で記述せよ\n",
        "\n"
      ]
    },
    {
      "cell_type": "markdown",
      "metadata": {
        "id": "dLF-cNYOgn6t"
      },
      "source": [
        "### 手順3. 次のセルを実行して確かに保存したファイルが正しく実行できているか確認する"
      ]
    },
    {
      "cell_type": "code",
      "execution_count": null,
      "metadata": {
        "id": "TjjPjrFHMEjb"
      },
      "outputs": [],
      "source": [
        "!python3 example01.py\n"
      ]
    },
    {
      "cell_type": "markdown",
      "metadata": {
        "id": "EC8U57jLgn6t"
      },
      "source": [
        "### サンプルプログラム2：パラメータを使った検索\n",
        "* このセルは修正せずにそのままにすること\n",
        "\n",
        "```\n",
        "import sqlite3\n",
        "\n",
        "connection = sqlite3.connect('syllabus.sqlite3')\n",
        "cursor = connection.cursor()\n",
        "year = 1\n",
        "eval = \"試験\"\n",
        "\n",
        "# 2個パラメータを指定\n",
        "# 指定方法1\n",
        "cursor.execute('SELECT * FROM 授業科目 WHERE 対象学年 = ? AND 評価方法 = ?;', (year, eval))\n",
        "# 指定方法2\n",
        "#cursor.execute('SELECT * FROM 授業科目 WHERE 対象学年 = :year AND 評価方法 = :eval;', {\"year\": year, \"eval\": eval})\n",
        "\n",
        "for row in cursor :\n",
        "    print(row)\n",
        "\n",
        "cursor.close()\n",
        "connection.close()\n",
        "```"
      ]
    },
    {
      "cell_type": "markdown",
      "metadata": {
        "id": "95nw44sMgn6t"
      },
      "source": [
        "### サンプルプログラム2：パラメータを使った検索　　→ 修正用\n",
        "* 下は，上のサンプルプログラム2と同じ内容である\n",
        "* 何か自分で，変更して動作確認にするときに使用せよ"
      ]
    },
    {
      "cell_type": "code",
      "execution_count": null,
      "metadata": {
        "id": "R5pGzijhDNzZ"
      },
      "outputs": [],
      "source": [
        "import sqlite3\n",
        "\n",
        "connection = sqlite3.connect('syllabus.sqlite3')\n",
        "cursor = connection.cursor()\n",
        "year = 1\n",
        "eval = \"試験\"\n",
        "\n",
        "# 2個パラメータを指定\n",
        "# 指定方法1\n",
        "cursor.execute('SELECT * FROM 授業科目 WHERE 対象学年 = ? AND 評価方法 = ?;', (year, eval))\n",
        "# 指定方法2\n",
        "#cursor.execute('SELECT * FROM 授業科目 WHERE 対象学年 = :year AND 評価方法 = :eval;', {\"year\": year, \"eval\": eval})\n",
        "\n",
        "for row in cursor :\n",
        "    print(row)\n",
        "\n",
        "cursor.close()\n",
        "connection.close()"
      ]
    },
    {
      "cell_type": "markdown",
      "metadata": {
        "id": "_tL4GBJngn6t"
      },
      "source": [
        "### サンプルプログラム3：Pythonにおけるコマンドライン引数の取得\n",
        "* 以下を実行し，サンプルプログラム sample03.pyファイルを作成せよ"
      ]
    },
    {
      "cell_type": "code",
      "execution_count": null,
      "metadata": {
        "id": "p6Iv2diNfC6N"
      },
      "outputs": [],
      "source": [
        "%%writefile sample03.py\n",
        "import sys\n",
        "\n",
        "# 引数をすべて出力する\n",
        "print(sys.argv)\n"
      ]
    },
    {
      "cell_type": "code",
      "execution_count": null,
      "metadata": {
        "id": "CpS033bdfau-"
      },
      "outputs": [],
      "source": [
        "# サンプルプログラム3の実行例\n",
        "!python3 sample03.py 40 10\n"
      ]
    },
    {
      "cell_type": "markdown",
      "metadata": {
        "id": "qjYM43CGgn6t"
      },
      "source": [
        "### サンプルプログラム4：Pythonにおけるコマンドライン引数の数のチェック\n",
        "* 以下を実行し，サンプルプログラム sample04.pyファイルを作成せよ"
      ]
    },
    {
      "cell_type": "code",
      "execution_count": null,
      "metadata": {
        "id": "oIYFQA1CfwkH"
      },
      "outputs": [],
      "source": [
        "%%writefile sample04.py\n",
        "import sys\n",
        "\n",
        "# sys.argvのサイズを出力する\n",
        "print(f\"sys.argvのサイズ（長さ）は{len(sys.argv)}です．\")\n",
        "\n",
        "\n",
        "# 引数の個数チェック：1個ではない場合はエラーメッセージ表示して終了\n",
        "if len(sys.argv) != 2 :\n",
        "  print(\"argument error\")\n",
        "  exit()\n",
        "# 1個だったらOKを表示\n",
        "else :\n",
        "  print(\"OK\")"
      ]
    },
    {
      "cell_type": "markdown",
      "metadata": {
        "id": "n6adbOxTgn6t"
      },
      "source": [
        "### サンプルプログラム4を実行する\n",
        "* 引数の数を変えて実行してみよう"
      ]
    },
    {
      "cell_type": "code",
      "execution_count": null,
      "metadata": {
        "id": "4G_x2D_TgN-z"
      },
      "outputs": [],
      "source": [
        "!python3 sample04.py 40 10"
      ]
    },
    {
      "cell_type": "markdown",
      "metadata": {
        "id": "NsnGz1LLgn6t"
      },
      "source": [
        "## 例題2：パラメータを使ったデータの検索\n",
        "* 配布資料の例題2をやってみよう\n",
        "\n",
        "### 手順1. 次のセルにプログラムを記述し，修正しながら確認しよう\n",
        "* 注意：引数の利用は，このセルでは確認できないので，その手前まで確認する．\n",
        "* 注意：引数を含むプログラムを，セル内で起動すると予期せぬエラーや，カーネルのダウンが起こることがある（想定されない領域へのアクセスとなる可能性があるため）\n",
        "* 引数の利用の動作確認は，次のセル以降で，ファイル作成してから動作確認する"
      ]
    },
    {
      "cell_type": "code",
      "execution_count": null,
      "metadata": {
        "id": "1zUlU-Ar-nEy"
      },
      "outputs": [],
      "source": [
        "\n"
      ]
    },
    {
      "cell_type": "markdown",
      "metadata": {
        "id": "FW0YYU-Cgn6u"
      },
      "source": [
        "### 手順2. 次のセルの%%writefileの下に，上のセルで作成したプログラムを元に修正したプログラムを記述する\n",
        "* セルを実行しすると，example02.pyという名前のファイルに保存される\n"
      ]
    },
    {
      "cell_type": "code",
      "execution_count": null,
      "metadata": {
        "id": "l_iQ4BTfMhc-"
      },
      "outputs": [],
      "source": [
        "%%writefile example02.py\n",
        "# 例題2プログラム\n",
        "# 以下は自分で記述せよ\n"
      ]
    },
    {
      "cell_type": "markdown",
      "metadata": {
        "id": "pfS1Kl2pgn6u"
      },
      "source": [
        "### 手順3. 次のセルを実行して確かに保存したファイルが正しく実行できているか確認する"
      ]
    },
    {
      "cell_type": "code",
      "execution_count": null,
      "metadata": {
        "id": "0KIxUclBMk2_"
      },
      "outputs": [],
      "source": [
        "!python3 example02.py 40"
      ]
    },
    {
      "cell_type": "markdown",
      "metadata": {
        "id": "p4p_T70jgn6u"
      },
      "source": [
        "## 演習：データの検索（課題4　第1問）\n",
        "\n",
        "### 手順1. 次のセルにプログラムを記述し，修正しながら確認しよう\n",
        "* 注意：引数の利用は，このセルでは確認できないので，その手前まで確認する．\n",
        "* 注意：引数を含むプログラムを，セル内で起動すると予期せぬエラーや，カーネルのダウンが起こることがある（想定されない領域へのアクセスとなる可能性があるため）\n",
        "* 引数の利用の動作確認は，次のセル以降で，ファイル作成してから動作確認する"
      ]
    },
    {
      "cell_type": "code",
      "execution_count": null,
      "metadata": {
        "id": "_x_0rHZcd-ZF"
      },
      "outputs": [],
      "source": []
    },
    {
      "cell_type": "markdown",
      "metadata": {
        "id": "mfVx5d_xgn6u"
      },
      "source": [
        "### 手順2. このセルの%%writefileの下に，上のセルで作成したプログラムを元に修正したプログラムを記述する\n",
        "* フォルダ名とファイル名を修正し，セルを実行しすると，提出用フォルダの下のファイルに保存される"
      ]
    },
    {
      "cell_type": "code",
      "execution_count": null,
      "metadata": {
        "id": "RtB7_m3nPUnj"
      },
      "outputs": [],
      "source": [
        "%%writefile DS_EX_04_01.py\n",
        "# 演習プログラム\n",
        "# 以下は自分で記述せよ\n",
        "\n"
      ]
    },
    {
      "cell_type": "markdown",
      "metadata": {
        "id": "Y_nrBAP1gn6u"
      },
      "source": [
        "### 手順3．動作確認"
      ]
    },
    {
      "cell_type": "code",
      "execution_count": null,
      "metadata": {
        "id": "hnc90g1Cd-ZF"
      },
      "outputs": [],
      "source": [
        "# 演習：動作確認\n",
        "\n",
        "# ファイルに書かれたプログラムの実行\n",
        "!python3 DS_EX_04_01.py 1 10000"
      ]
    }
  ],
  "metadata": {
    "colab": {
      "provenance": [],
      "include_colab_link": true
    },
    "kernelspec": {
      "display_name": "ds",
      "language": "python",
      "name": "python3"
    },
    "language_info": {
      "codemirror_mode": {
        "name": "ipython",
        "version": 3
      },
      "file_extension": ".py",
      "mimetype": "text/x-python",
      "name": "python",
      "nbconvert_exporter": "python",
      "pygments_lexer": "ipython3",
      "version": "3.13.3"
    }
  },
  "nbformat": 4,
  "nbformat_minor": 0
}